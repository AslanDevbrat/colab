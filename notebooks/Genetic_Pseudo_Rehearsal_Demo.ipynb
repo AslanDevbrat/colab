{
  "nbformat": 4,
  "nbformat_minor": 0,
  "metadata": {
    "colab": {
      "name": "Genetic_Pseudo_Rehearsal_Demo.ipynb",
      "provenance": [],
      "collapsed_sections": [],
      "machine_shape": "hm"
    },
    "kernelspec": {
      "name": "python3",
      "display_name": "Python 3"
    }
  },
  "cells": [
    {
      "cell_type": "markdown",
      "metadata": {
        "id": "SO1IYJJ2fgqY"
      },
      "source": [
        "<center> <h1>Pseudo Rehearsal using non photo-realistic images </center>\n",
        "\n",
        "This work is an implementation of the technique discussed in the paper titled <b>Pseudo rehearsal using non photo-realistic images.</b> The full paper can be found at this <a href=\"https://ieeexplore.ieee.org/document/9412827\">link</a> and the arxiv preprint in this <a href=\"https://arxiv.org/abs/2004.13414\">link.</a>\n",
        "\n",
        "<h3>Introduction:</h3>\n",
        "1. In this work, we try to establish that neural networks can be pseudo rehearsed on synthetic images that are not photo-realistic.<br>\n",
        "2. Instead of using generative networks to generate photo-realistic synthetic data, in this work, we pseudo rehearse a neural network on non photo-realistic data generated using <b>Genetic Algorithms</b>.\n",
        "\n",
        "<h3>Experiment</h3>\n",
        "One simple experiment reported in the paper is replicated to keep the notebook short and within reach of computational resources available on google colab. <br>\n",
        "1. In this experiment, we first train a neural network on MNIST Fashion dataset. <br>\n",
        "2. Then, Genetic Algorithms is used to create synthetic data for Fashion dataset.<br>\n",
        "3. We then train the same neural network on MNIST Digits dataset while pseudo rehearsing it on the synthetic data for MNIST Fashion that we just created using Genetic Algorithms.\n",
        "\n",
        "The retention and learning behavior of the neural network is then observed.\n",
        "\n",
        "<b>NOTE:</b> If you are using Google colab to run the notebook, please ensure that there is atleast 25GB of allocated RAM.\n",
        "\n",
        "\n"
      ]
    },
    {
      "cell_type": "code",
      "metadata": {
        "id": "oemvCYwWH5sL",
        "colab": {
          "base_uri": "https://localhost:8080/"
        },
        "outputId": "e42cb8be-ec64-4c9f-cc69-239c89b6855b"
      },
      "source": [
        "# This code was written for Tensorflow 1. \n",
        "# So please ensure that google colab uses Tensorflow 1 while executing the codes.\n",
        "# Running this cell ensures that Tensorflow 1 is used.\n",
        "\n",
        "%tensorflow_version 1.x"
      ],
      "execution_count": 1,
      "outputs": [
        {
          "output_type": "stream",
          "text": [
            "TensorFlow 1.x selected.\n"
          ],
          "name": "stdout"
        }
      ]
    },
    {
      "cell_type": "markdown",
      "metadata": {
        "id": "wp75nxcIVUxe"
      },
      "source": [
        "## Loading MNIST Fashion dataset\n",
        "\n",
        "First, we load MNIST Fashion dataset. We reshape the dataset such that all the image samples are now flattened."
      ]
    },
    {
      "cell_type": "code",
      "metadata": {
        "id": "p_2Fzqw8WcG2",
        "colab": {
          "base_uri": "https://localhost:8080/"
        },
        "outputId": "4c2019ec-02cc-40e8-da95-ddb637ddd8c3"
      },
      "source": [
        "import keras\n",
        "from keras.datasets import fashion_mnist\n",
        "import numpy as np\n",
        "\n",
        "(x_train_h, y_train_h), (x_test_h, y_test_h) = fashion_mnist.load_data()\n",
        "\n",
        "x_train_h = x_train_h/255\n",
        "x_test_h = x_test_h/255\n",
        "\n",
        "y_train_h = np.copy(y_train_h)\n",
        "y_test_h = np.copy(y_test_h)\n",
        "\n",
        "x_train_h = np.reshape(x_train_h,(60000,28,28,1))\n",
        "x_test_h = np.reshape(x_test_h,(10000,28,28,1))\n",
        "\n",
        "pre_y_train_h = y_train_h\n",
        "pre_y_test_h = y_test_h\n",
        "\n",
        "y_test_h = keras.utils.to_categorical(y_test_h, 20)\n",
        "y_train_h = keras.utils.to_categorical(y_train_h, 20)\n",
        "\n",
        "x_train_h = np.reshape(x_train_h,(60000,784))\n",
        "x_test_h = np.reshape(x_test_h,(10000,784))"
      ],
      "execution_count": 2,
      "outputs": [
        {
          "output_type": "stream",
          "text": [
            "Using TensorFlow backend.\n"
          ],
          "name": "stderr"
        }
      ]
    },
    {
      "cell_type": "markdown",
      "metadata": {
        "id": "ofK7fbA1VX-t"
      },
      "source": [
        "## Initialize a neural network\n",
        "\n",
        "For this tutorial, let us initialize a simple, fully connected neural network.\n",
        "\n",
        " Please note that the proposed technique is scalable to any type of classification network like CNN.\n",
        "\n",
        "Feel free to plug in any other architecture of your choice. However, make sure that the parameters of the genetic algorithm are adjusted accordingly."
      ]
    },
    {
      "cell_type": "code",
      "metadata": {
        "id": "MeFOiJKbW3wf",
        "colab": {
          "base_uri": "https://localhost:8080/"
        },
        "outputId": "5fda578c-6b15-4329-9c57-ae1ae56cfb11"
      },
      "source": [
        "from keras.models import Sequential\n",
        "from keras.layers import Flatten, Dense, Activation\n",
        "\n",
        "model = Sequential()\n",
        "\n",
        "model.add(Dense(512))\n",
        "model.add(Activation('relu'))\n",
        "model.add(Dense(256))\n",
        "model.add(Activation('relu'))\n",
        "model.add(Dense(20))\n",
        "model.add(Activation('softmax'))\n",
        "model.compile(loss=keras.losses.categorical_crossentropy,\n",
        "              optimizer=keras.optimizers.Adadelta(),\n",
        "              metrics=['accuracy'])"
      ],
      "execution_count": 3,
      "outputs": [
        {
          "output_type": "stream",
          "text": [
            "WARNING:tensorflow:From /tensorflow-1.15.2/python3.7/tensorflow_core/python/ops/resource_variable_ops.py:1630: calling BaseResourceVariable.__init__ (from tensorflow.python.ops.resource_variable_ops) with constraint is deprecated and will be removed in a future version.\n",
            "Instructions for updating:\n",
            "If using Keras pass *_constraint arguments to layers.\n"
          ],
          "name": "stdout"
        }
      ]
    },
    {
      "cell_type": "markdown",
      "metadata": {
        "id": "C3yuJOERNzEP"
      },
      "source": [
        "## Train the network on MNIST Fashion\n"
      ]
    },
    {
      "cell_type": "code",
      "metadata": {
        "id": "YxRipsPDW9rW",
        "colab": {
          "base_uri": "https://localhost:8080/"
        },
        "outputId": "6edb5e40-045c-41ea-da6c-8afd9bf17bb2"
      },
      "source": [
        "history_original = model.fit(x_train_h,y_train_h,verbose=1,epochs=5,batch_size=100)\n",
        "score = model.evaluate(x_test_h,y_test_h,verbose=1)\n",
        "print(\"\\nAccuracy of the model on Fashion dataset: \",score[1]*100,\"%\")"
      ],
      "execution_count": 4,
      "outputs": [
        {
          "output_type": "stream",
          "text": [
            "WARNING:tensorflow:From /tensorflow-1.15.2/python3.7/keras/backend/tensorflow_backend.py:422: The name tf.global_variables is deprecated. Please use tf.compat.v1.global_variables instead.\n",
            "\n",
            "Epoch 1/5\n",
            "60000/60000 [==============================] - 7s 111us/step - loss: 0.5533 - accuracy: 0.7987\n",
            "Epoch 2/5\n",
            "60000/60000 [==============================] - 7s 109us/step - loss: 0.3807 - accuracy: 0.8586\n",
            "Epoch 3/5\n",
            "60000/60000 [==============================] - 7s 109us/step - loss: 0.3379 - accuracy: 0.8737\n",
            "Epoch 4/5\n",
            "60000/60000 [==============================] - 7s 109us/step - loss: 0.3096 - accuracy: 0.8847\n",
            "Epoch 5/5\n",
            "60000/60000 [==============================] - 6s 108us/step - loss: 0.2888 - accuracy: 0.8914\n",
            "10000/10000 [==============================] - 1s 68us/step\n",
            "\n",
            "Accuracy of the model on Fashion dataset:  87.6200020313263 %\n"
          ],
          "name": "stdout"
        }
      ]
    },
    {
      "cell_type": "markdown",
      "metadata": {
        "id": "L3NJReA6VZ3p"
      },
      "source": [
        "# Creating synthetic data for MNIST Fashion dataset from our model.\n",
        "\n",
        "In this work, instead of using a separate neural structure to generate synthetic data, we use the neural network itself to generate synthetic data. We do this using Genetic Algorithms. To get a better understanding of the technique, please refer to the <a href=\"https://ieeexplore.ieee.org/document/9412827\">paper</a>."
      ]
    },
    {
      "cell_type": "markdown",
      "metadata": {
        "id": "aYgPp5v1ORt3"
      },
      "source": [
        "## Setting the parameters of the Genetic Algorithm\n",
        "\n",
        "These parameters are responsible for altering the rate of convergence of the Genetic Algorithm. \n",
        "\n",
        "Play around with these parameters to see changes in increase or decrease in the rate of convergence of the algorithm.\n",
        "\n",
        "You will also notice that rate of convergence is not the same for all classes, so you can try to set different parameters for different classes.\n",
        "\n",
        "Note: If you plugged in your own network or a different dataset in the previous step, then change the parameters accordingly."
      ]
    },
    {
      "cell_type": "code",
      "metadata": {
        "id": "1u4ous2gPkKP"
      },
      "source": [
        "population_size=16\n",
        "NUMBER_OF_CULTURES = 30\n",
        "NUMBER_OF_GENERATIONS = 100\n",
        "MUTATION_PROBABILITY = 0.1\n",
        "MUTATION_TYPE = \"+\"\n",
        "\n",
        "#Three times of mutations are possible. +,-,*."
      ],
      "execution_count": 5,
      "outputs": []
    },
    {
      "cell_type": "markdown",
      "metadata": {
        "id": "-0iANfH_Nw4_"
      },
      "source": [
        "## Declaring functions required for Genetic Algorithm"
      ]
    },
    {
      "cell_type": "code",
      "metadata": {
        "id": "z6j3E7uTN3xN"
      },
      "source": [
        "from scipy.spatial import distance\n",
        "from sklearn.mixture import GaussianMixture\n",
        "from heapq import nlargest\n",
        "import random\n",
        "\n",
        "def crossover(first_gene,second_gene,index):\n",
        "  temp = np.copy(first_gene[index:])\n",
        "  first_gene[index:] = second_gene[index:]\n",
        "  second_gene[index:]=temp\n",
        "\n",
        "def generate_labels(data,model,number_of_classes):\n",
        "  '''\n",
        "  . \\n\\n\n",
        "  AUTHOR:\n",
        "  Suri Bhasker Sri Harsha\n",
        "\n",
        "  AIM:\n",
        "  The function assigns labels to the given dataset with the given model as the reference.\n",
        "  The function returns a list with labels in two formats. The first format is the one-hot encoding\n",
        "  format and the second format is the binary format of labels.\n",
        "\n",
        "  ARGUMENTS:\n",
        "  data: The dataset for which you want to generate labels\n",
        "  model: The model that will be used for the label generation\n",
        "  number_of_classes: Number of classes in the dataset\n",
        "\n",
        "  RETURNS:\n",
        "  [labels, pre_labels]\n",
        "  '''\n",
        "\n",
        "  labels = model.predict_classes(data,verbose=1)\n",
        "  pre_labels = labels\n",
        "  labels = keras.utils.to_categorical(labels,number_of_classes)\n",
        "\n",
        "  return [labels,pre_labels]\n",
        "def agreement_score(model1_predictions, model2_predictions):\n",
        "\n",
        "  '''\n",
        "  Returns the degree of agreement between predictions of two models\n",
        "\n",
        "  INPUT ARGUMENTS\n",
        "  model1_predictions: Preditions of the model 1 on a test dataset\n",
        "  model2_predictions: Preditions of the model 2 on a test dataset\n",
        "\n",
        "  OUTPUT:\n",
        "  Returns a list of two elements where the first elements is the\n",
        "  \"Agreement score\" between the two lists and the second element\n",
        "  is the list of indices where both the models have agreed upon.\n",
        "  '''\n",
        "\n",
        "  if len(model1_predictions) != len(model2_predictions):\n",
        "    print(\"Length of given lists donot match\")\n",
        "    return 0\n",
        "\n",
        "  correct_count = 0\n",
        "  agreement_indices = []\n",
        "\n",
        "  for i in range(len(model1_predictions)):\n",
        "    if model1_predictions[i] == model2_predictions[i]:\n",
        "      correct_count += 1\n",
        "      agreement_indices.append(i)\n",
        "\n",
        "  agreement_score = (correct_count/len(model1_predictions))*100\n",
        "\n",
        "  return [agreement_score, agreement_indices]\n",
        "\n",
        "\n",
        "def Enrichment(data,labels,model,NUMBER_OF_CENTERS,NUMBER_OF_CLASSES, NUMBER_OF_SAMPLES, verbose=0):\n",
        "    '''\n",
        "    Enriches the given data by fitting a Gaussian Mixture model with\n",
        "    NUMBER_OF_CENTERS and NUMBER_OF_SAMPLES\n",
        "    '''\n",
        "    if verbose == 1:\n",
        "        print(\"Creating the Gaussian mixture model ...\")\n",
        "    gaussian = GaussianMixture(n_components = NUMBER_OF_CENTERS)\n",
        "\n",
        "    if verbose == 1:\n",
        "        print(\"Created the model ...\")\n",
        "\n",
        "    if verbose == 1:\n",
        "        print(\"Fitting the data to the GMM ...\")\n",
        "    gaussian.fit(X=data)\n",
        "\n",
        "    if verbose == 1:\n",
        "        print(\"Generating synthetic samples ....\")\n",
        "    synthetic = gaussian.sample(n_samples=NUMBER_OF_SAMPLES)\n",
        "\n",
        "    synthetic_data = synthetic[0]\n",
        "\n",
        "    if verbose == 1:\n",
        "        print(\"Generating labels ...\")\n",
        "    labels = model.predict_classes(synthetic_data,verbose=1)\n",
        "    pre_labels = labels\n",
        "    labels = keras.utils.to_categorical(labels,NUMBER_OF_CLASSES)\n",
        "\n",
        "    return [synthetic_data, labels, pre_labels]\n"
      ],
      "execution_count": 6,
      "outputs": []
    },
    {
      "cell_type": "code",
      "metadata": {
        "id": "vD2NGdR3XZRr"
      },
      "source": [
        "from heapq import nlargest\n",
        "import random\n",
        "\n",
        "pseudo_x_train_2400 = np.zeros((0,784))\n",
        "\n",
        "POINTS_GATHERED = []\n",
        "ideal_points = []\n",
        "\n",
        "for class_number in range(10):\n",
        "  POINTS_COUNTER=0\n",
        "  print(\"Class number: \", class_number)\n",
        "\n",
        "  for p in range(NUMBER_OF_CULTURES): \n",
        "\n",
        "    # CREATING THE INITIAL POPULATION \n",
        "    '''Here, the initial population is made of \"zeros\". Try different initial populations to see \n",
        "    how the evolution changes.'''\n",
        "    current_generation=[]\n",
        "    for i in range(population_size):\n",
        "      current_generation.append(np.zeros((784)))\n",
        "    \n",
        "    best = 0\n",
        "    best_list=[]\n",
        "\n",
        "    '''The stopping criteria for the genetic algorithm can be set here.\n",
        "    Currently, the algorithm runs till a fitness of 99% is reached by any organism,\n",
        "    alternatively, it could be restricted based on the maximum number of generations for which \n",
        "    the algorithm can run.\n",
        "    '''\n",
        "    while best*100 < 99:\n",
        "    # for generation_number in range(NUMBER_OF_GENERATIONS):\n",
        "\n",
        "      current_generation_fitness=[]\n",
        "      \n",
        "      '''Finding the fitness of each organism in the current population'''\n",
        "      for i in range(population_size):\n",
        "\n",
        "        test_point = np.reshape(current_generation[i],(1,784))\n",
        "\n",
        "        fitness_score = model.predict(test_point)[0][class_number]\n",
        "        class_prediction= model.predict_classes(test_point)\n",
        "        current_generation_fitness.append(fitness_score)\n",
        "\n",
        "      if max(current_generation_fitness) >= best:\n",
        "        best = max(current_generation_fitness)\n",
        "      \n",
        "      print(\"Best: \",best*100, \" Culture number: \",p,\" Class number: \",class_number)\n",
        "      \n",
        "\n",
        "      '''Finding the indices of the fittest 25% organisms'''\n",
        "      fittest_four_model_indices = nlargest(int(population_size/4), range(len(current_generation_fitness)), current_generation_fitness.__getitem__)\n",
        "  \n",
        "      # VERIFIED\n",
        "      temp_list=[]\n",
        "      for temp in range(int(population_size/4)):\n",
        "        temp_list.append(np.copy(current_generation[fittest_four_model_indices[temp]]))\n",
        "      \n",
        "\n",
        "      # VERIFIED\n",
        "      for temp in range(int(population_size/4)):\n",
        "        current_generation[temp] = np.copy(temp_list[temp])\n",
        "     \n",
        "  \n",
        "      '''Performing mutation operations on the current generation to create the next generation.'''\n",
        "      # VERIFIED\n",
        "      for temp in range((int(population_size/4)),(int(population_size/2))):\n",
        "        current_generation[temp] = np.copy(current_generation[temp-(int(population_size/4))])     \n",
        "  \n",
        "      # VERIFIED\n",
        "      for i in range((int(population_size/4)),(int(population_size/2))):\n",
        "        point_mutation=np.random.choice([0,abs(np.random.normal(0,1,[1]))],size=current_generation[i].shape, p=[(1-MUTATION_PROBABILITY),MUTATION_PROBABILITY])\n",
        "\n",
        "        if MUTATION_TYPE == \"*\":\n",
        "          choice=random.choice([\"+\",\"-\",\"*\"])\n",
        "          if choice== \"-\":\n",
        "            current_generation[i] = current_generation[i] - point_mutation\n",
        "          elif choice==\"+\":\n",
        "            current_generation[i] = current_generation[i] + point_mutation\n",
        "        elif MUTATION_TYPE == \"+\":\n",
        "          current_generation[i] = current_generation[i] + point_mutation\n",
        "        else:\n",
        "          current_generation[i] = current_generation[i] - point_mutation\n",
        "      \n",
        "      \n",
        "      '''Performing crossover operations on the current generation to create the next generation'''\n",
        "      # VERIFIED\n",
        "      for temp in range((int(population_size/2)),(int(population_size*0.75))):\n",
        "        current_generation[temp] = np.copy(current_generation[temp-(int(population_size/2))])\n",
        "     \n",
        "  \n",
        "      # VERIFIED\n",
        "      for temp in range((int(population_size/2)),(int(population_size*0.75))):\n",
        "        if temp%2 == 0:\n",
        "          crossover(current_generation[temp],current_generation[temp+1],int((current_generation[temp].shape)[0]/2))\n",
        "  \n",
        "      '''Performing mutated-crossover of the current generation to create the next generation'''\n",
        "      # VERIFIED\n",
        "      for temp in range((int(population_size*0.75)),population_size):\n",
        "        current_generation[temp] = np.copy(current_generation[temp-(int(population_size/2))])\n",
        "  \n",
        "      # VERIFIED\n",
        "      for temp in range((int(population_size*0.75)),population_size):\n",
        "        if temp%2 == 0:\n",
        "          crossover(current_generation[temp],current_generation[temp+1],int((current_generation[temp].shape)[0]/2))\n",
        "    for k in range(len(current_generation)):\n",
        "      pseudo_x_train_2400 = np.vstack((pseudo_x_train_2400,np.reshape(current_generation[k],(1,784))))\n",
        "    \n",
        "print(\"Generated data: \",pseudo_x_train_2400.shape)"
      ],
      "execution_count": null,
      "outputs": []
    },
    {
      "cell_type": "code",
      "metadata": {
        "id": "26stzzJoXfUH",
        "colab": {
          "base_uri": "https://localhost:8080/"
        },
        "outputId": "00585257-d4ba-478e-a9df-9c38077fa900"
      },
      "source": [
        "'''Since the synthetic data generated using Genetic Algorithms has no labels, we use our model to \n",
        "generate labels for them.'''\n",
        "\n",
        "from sklearn.utils import class_weight\n",
        "\n",
        "print(pseudo_x_train_2400.shape)\n",
        "\n",
        "pseudo_y_train_2400 = model.predict_classes(pseudo_x_train_2400)\n",
        "\n",
        "pre_pseudo_y_train_2400 = pseudo_y_train_2400\n",
        "pseudo_y_train_2400 = keras.utils.to_categorical(pseudo_y_train_2400, 10)\n",
        "print(\"Synthetic data shape: \",pseudo_x_train_2400.shape)\n",
        "print(\"Synthetic labels shape: \",pseudo_y_train_2400.shape)"
      ],
      "execution_count": 8,
      "outputs": [
        {
          "output_type": "stream",
          "text": [
            "(4800, 784)\n",
            "Synthetic data shape:  (4800, 784)\n",
            "Synthetic labels shape:  (4800, 10)\n"
          ],
          "name": "stdout"
        }
      ]
    },
    {
      "cell_type": "code",
      "metadata": {
        "id": "d8aj3ef3acdJ",
        "colab": {
          "base_uri": "https://localhost:8080/",
          "height": 35
        },
        "outputId": "4d02b54a-e591-49f4-a288-46c67a9e9791"
      },
      "source": [
        "# SANITY CHECK\n",
        "'''Un-comment this to see the coverage for each class.'''\n",
        "\n",
        "# count = [0,0,0,0,0,0,0,0,0,0]\n",
        "# for i in range(pseudo_x_train_2400.shape[0]):\n",
        "#   count[pre_pseudo_y_train_2400[i]]+=1\n",
        "\n",
        "# print(count)\n",
        "# print(sum(count))"
      ],
      "execution_count": 9,
      "outputs": [
        {
          "output_type": "execute_result",
          "data": {
            "application/vnd.google.colaboratory.intrinsic+json": {
              "type": "string"
            },
            "text/plain": [
              "'Un-comment this to see the coverage for each class.'"
            ]
          },
          "metadata": {
            "tags": []
          },
          "execution_count": 9
        }
      ]
    },
    {
      "cell_type": "markdown",
      "metadata": {
        "id": "8SOVMbSZM17H"
      },
      "source": [
        "## Enriching the genetic data"
      ]
    },
    {
      "cell_type": "markdown",
      "metadata": {
        "id": "RNu55b1BOoo9"
      },
      "source": [
        "### Enrichment step 1"
      ]
    },
    {
      "cell_type": "code",
      "metadata": {
        "id": "BjYiEZgjT36d",
        "colab": {
          "base_uri": "https://localhost:8080/"
        },
        "outputId": "620709ad-ae85-4c78-e1d6-e19cd841dd16"
      },
      "source": [
        "help(Enrichment)"
      ],
      "execution_count": 10,
      "outputs": [
        {
          "output_type": "stream",
          "text": [
            "Help on function Enrichment in module __main__:\n",
            "\n",
            "Enrichment(data, labels, model, NUMBER_OF_CENTERS, NUMBER_OF_CLASSES, NUMBER_OF_SAMPLES, verbose=0)\n",
            "    Enriches the given data by fitting a Gaussian Mixture model with\n",
            "    NUMBER_OF_CENTERS and NUMBER_OF_SAMPLES\n",
            "\n"
          ],
          "name": "stdout"
        }
      ]
    },
    {
      "cell_type": "code",
      "metadata": {
        "id": "C3yWYk_FQuki",
        "colab": {
          "base_uri": "https://localhost:8080/"
        },
        "outputId": "1a1aa9ec-58d3-4d7b-af36-b29d0e7ca953"
      },
      "source": [
        "NUMBER_OF_SAMPLES = int(pseudo_x_train_2400.shape[0])*2\n",
        "temp = Enrichment(pseudo_x_train_2400,pseudo_y_train_2400,model,10,10,NUMBER_OF_SAMPLES=NUMBER_OF_SAMPLES)\n",
        "\n",
        "synthetic_data = temp[0]\n",
        "synthetic_labels = temp[1]\n",
        "\n",
        "print(\"Training data shape: \",synthetic_data.shape)\n",
        "print(\"Training labels shape: \",synthetic_labels.shape)"
      ],
      "execution_count": 11,
      "outputs": [
        {
          "output_type": "stream",
          "text": [
            "9600/9600 [==============================] - 0s 45us/step\n",
            "Training data shape:  (9600, 784)\n",
            "Training labels shape:  (9600, 10)\n"
          ],
          "name": "stdout"
        }
      ]
    },
    {
      "cell_type": "code",
      "metadata": {
        "id": "SQ1SyAsDFRez",
        "colab": {
          "base_uri": "https://localhost:8080/",
          "height": 35
        },
        "outputId": "cc9570c6-c3b5-413a-e046-5d8eb98dc1f4"
      },
      "source": [
        "# Sanity check:\n",
        "'''Un-comment this to see the coverage for each class.'''\n",
        "\n",
        "# count = [0,0,0,0,0,0,0,0,0,0]\n",
        "# for i in range(temp[2].shape[0]):\n",
        "#   count[temp[2][i]] += 1\n",
        "\n",
        "# print(count)\n",
        "# print(sum(count))"
      ],
      "execution_count": 12,
      "outputs": [
        {
          "output_type": "execute_result",
          "data": {
            "application/vnd.google.colaboratory.intrinsic+json": {
              "type": "string"
            },
            "text/plain": [
              "'Un-comment this to see the coverage for each class.'"
            ]
          },
          "metadata": {
            "tags": []
          },
          "execution_count": 12
        }
      ]
    },
    {
      "cell_type": "markdown",
      "metadata": {
        "id": "VP0X5ev3MxV-"
      },
      "source": [
        "### Enrichment Step 2\n",
        "\n",
        "Please ensure that there is sufficient RAM available to run this code. Insufficient RAM might lead to crashing of the notebook."
      ]
    },
    {
      "cell_type": "code",
      "metadata": {
        "id": "uLKA6pjCNJgQ",
        "colab": {
          "base_uri": "https://localhost:8080/"
        },
        "outputId": "2f48c951-aff3-4741-de51-3dcfa4a4d312"
      },
      "source": [
        "NUMBER_OF_SAMPLES = 1000000\n",
        "\n",
        "temp = Enrichment(synthetic_data,synthetic_labels,model,1,20,NUMBER_OF_SAMPLES)\n",
        "\n",
        "new_synthetic_data = temp[0]\n",
        "new_synthetic_labels = temp[1]\n",
        "\n",
        "print(\"Training data shape: \",new_synthetic_data.shape)\n",
        "print(\"Training labels shape: \",new_synthetic_labels.shape)"
      ],
      "execution_count": 13,
      "outputs": [
        {
          "output_type": "stream",
          "text": [
            "1000000/1000000 [==============================] - 52s 52us/step\n",
            "Training data shape:  (1000000, 784)\n",
            "Training labels shape:  (1000000, 20)\n"
          ],
          "name": "stdout"
        }
      ]
    },
    {
      "cell_type": "code",
      "metadata": {
        "id": "6Z8KN8vwTWP1",
        "colab": {
          "base_uri": "https://localhost:8080/",
          "height": 35
        },
        "outputId": "49a7ff3f-a453-43d2-a228-2b769fcf3cad"
      },
      "source": [
        "# Sanity check:\n",
        "'''Un-comment this to see the coverage for each class.'''\n",
        "\n",
        "# count = [0,0,0,0,0,0,0,0,0,0]\n",
        "# for i in range(temp[2].shape[0]):\n",
        "#   count[temp[2][i]] += 1\n",
        "\n",
        "# print(count)\n",
        "# print(sum(count))"
      ],
      "execution_count": null,
      "outputs": [
        {
          "output_type": "execute_result",
          "data": {
            "application/vnd.google.colaboratory.intrinsic+json": {
              "type": "string"
            },
            "text/plain": [
              "'Un-comment this to see the coverage for each class.'"
            ]
          },
          "metadata": {
            "tags": []
          },
          "execution_count": 41
        }
      ]
    },
    {
      "cell_type": "markdown",
      "metadata": {
        "id": "IKkx_6UjMq23"
      },
      "source": [
        "## Visualizing the generated images\n",
        "\n",
        "Time to see how the generated images look like."
      ]
    },
    {
      "cell_type": "code",
      "metadata": {
        "id": "SAFGzWnBbKOz",
        "colab": {
          "base_uri": "https://localhost:8080/",
          "height": 268
        },
        "outputId": "46f9a2c9-2bb4-4092-ce19-369fac95e9d0"
      },
      "source": [
        "import matplotlib.pyplot as plt\n",
        "import random\n",
        "\n",
        "for i in range(9):\n",
        "  plt.subplot(3,3,i+1)\n",
        "  plt.imshow(np.reshape(new_synthetic_data[i],(28,28)))"
      ],
      "execution_count": 14,
      "outputs": [
        {
          "output_type": "display_data",
          "data": {
            "image/png": "[encoded data removed]",
            "text/plain": [
              "<Figure size 432x288 with 9 Axes>"
            ]
          },
          "metadata": {
            "tags": [],
            "needs_background": "light"
          }
        }
      ]
    },
    {
      "cell_type": "markdown",
      "metadata": {
        "id": "w041KreasOJx"
      },
      "source": [
        "Now, after generating the synthetic data for MNIST Fashion, let us train the same neural network on MNIST Digits. We are going to mix the generated synthetic data with the training data of MNIST Digits."
      ]
    },
    {
      "cell_type": "markdown",
      "metadata": {
        "id": "ubvE_UbtmliJ"
      },
      "source": [
        "# Loading MNIST Digits dataset"
      ]
    },
    {
      "cell_type": "code",
      "metadata": {
        "id": "YtVELtTRmoD8",
        "colab": {
          "base_uri": "https://localhost:8080/"
        },
        "outputId": "f03e5d24-6755-48fa-ff7f-4863962443f4"
      },
      "source": [
        "from keras.datasets import mnist\n",
        "import copy\n",
        "\n",
        "(x_train_f, y_train_f), (x_test_f, y_test_f) = mnist.load_data()\n",
        "\n",
        "x_train_f = x_train_f/255\n",
        "x_test_f = x_test_f/255\n",
        "\n",
        "y_train_f = copy.deepcopy(y_train_f)\n",
        "y_test_f = copy.deepcopy(y_test_f)\n",
        "\n",
        "y_train_f += 10\n",
        "y_test_f += 10\n",
        "\n",
        "x_train_f = np.reshape(x_train_f,(60000,784))\n",
        "x_test_f = np.reshape(x_test_f,(10000,784))\n",
        "\n",
        "y_train_f = keras.utils.to_categorical(y_train_f,20)\n",
        "y_test_f = keras.utils.to_categorical(y_test_f,20)"
      ],
      "execution_count": 15,
      "outputs": [
        {
          "output_type": "stream",
          "text": [
            "Downloading data from https://s3.amazonaws.com/img-datasets/mnist.npz\n",
            "11493376/11490434 [==============================] - 1s 0us/step\n"
          ],
          "name": "stdout"
        }
      ]
    },
    {
      "cell_type": "markdown",
      "metadata": {
        "id": "TKBj17ktmwZH"
      },
      "source": [
        "# Training on digits while rehearsing fashion"
      ]
    },
    {
      "cell_type": "code",
      "metadata": {
        "colab": {
          "base_uri": "https://localhost:8080/"
        },
        "id": "e13bl01Am9ug",
        "outputId": "8aea0469-1820-4fbc-cf3a-116dfce1dc99"
      },
      "source": [
        "print(\"Accuracy on MNIST Fashion: \",model.evaluate(x_test_h,y_test_h)[1])\n",
        "print(\"Accuracy on MNIST Digits: \",model.evaluate(x_test_f,y_test_f)[1])"
      ],
      "execution_count": 16,
      "outputs": [
        {
          "output_type": "stream",
          "text": [
            "10000/10000 [==============================] - 1s 64us/step\n",
            "Accuracy on MNIST Fashion:  0.8762000203132629\n",
            "10000/10000 [==============================] - 1s 71us/step\n",
            "Accuracy on MNIST Digits:  0.0\n"
          ],
          "name": "stdout"
        }
      ]
    },
    {
      "cell_type": "code",
      "metadata": {
        "colab": {
          "base_uri": "https://localhost:8080/"
        },
        "id": "UbtaLYPSmzMq",
        "outputId": "1bef0525-72c2-47ec-8d4d-4a434ee1de7f"
      },
      "source": [
        "EPOCHS = 5\n",
        "\n",
        "learning_accuracy = []\n",
        "retention_accuracy = []\n",
        "\n",
        "for epoch in range(EPOCHS):\n",
        "  print(\"\\n Epoch number: \",epoch)\n",
        "  model.fit(x_train_f,y_train_f,epochs=1,batch_size=100,verbose=1)\n",
        "  model.fit(new_synthetic_data,new_synthetic_labels,verbose=1,epochs=1,batch_size=1000,shuffle=True)\n",
        "  \n",
        "  learning_accuracy.append(model.evaluate(x_test_f,y_test_f,verbose=1)[1])\n",
        "  retention_accuracy.append(model.evaluate(x_test_h,y_test_h,verbose=1)[1])\n"
      ],
      "execution_count": 17,
      "outputs": [
        {
          "output_type": "stream",
          "text": [
            "\n",
            " Epoch number:  0\n",
            "Epoch 1/1\n",
            "60000/60000 [==============================] - 7s 110us/step - loss: 0.3051 - accuracy: 0.9147\n",
            "Epoch 1/1\n",
            "1000000/1000000 [==============================] - 31s 31us/step - loss: 0.5338 - accuracy: 0.7942\n",
            "10000/10000 [==============================] - 1s 69us/step\n",
            "10000/10000 [==============================] - 1s 74us/step\n",
            "\n",
            " Epoch number:  1\n",
            "Epoch 1/1\n",
            "60000/60000 [==============================] - 6s 105us/step - loss: 0.1089 - accuracy: 0.9676\n",
            "Epoch 1/1\n",
            "1000000/1000000 [==============================] - 31s 31us/step - loss: 0.4119 - accuracy: 0.8352\n",
            "10000/10000 [==============================] - 1s 69us/step\n",
            "10000/10000 [==============================] - 1s 70us/step\n",
            "\n",
            " Epoch number:  2\n",
            "Epoch 1/1\n",
            "60000/60000 [==============================] - 6s 108us/step - loss: 0.0709 - accuracy: 0.9789\n",
            "Epoch 1/1\n",
            "1000000/1000000 [==============================] - 31s 31us/step - loss: 0.3601 - accuracy: 0.8554\n",
            "10000/10000 [==============================] - 1s 70us/step\n",
            "10000/10000 [==============================] - 1s 66us/step\n",
            "\n",
            " Epoch number:  3\n",
            "Epoch 1/1\n",
            "60000/60000 [==============================] - 6s 105us/step - loss: 0.0528 - accuracy: 0.9837\n",
            "Epoch 1/1\n",
            "1000000/1000000 [==============================] - 31s 31us/step - loss: 0.3242 - accuracy: 0.8691\n",
            "10000/10000 [==============================] - 1s 74us/step\n",
            "10000/10000 [==============================] - 1s 70us/step\n",
            "\n",
            " Epoch number:  4\n",
            "Epoch 1/1\n",
            "60000/60000 [==============================] - 6s 104us/step - loss: 0.0390 - accuracy: 0.9884\n",
            "Epoch 1/1\n",
            "1000000/1000000 [==============================] - 31s 31us/step - loss: 0.2926 - accuracy: 0.8819\n",
            "10000/10000 [==============================] - 1s 70us/step\n",
            "10000/10000 [==============================] - 1s 73us/step\n"
          ],
          "name": "stdout"
        }
      ]
    },
    {
      "cell_type": "code",
      "metadata": {
        "colab": {
          "base_uri": "https://localhost:8080/"
        },
        "id": "tBBhT248nGGg",
        "outputId": "cf81c4eb-c496-4688-cabc-a5880bddc206"
      },
      "source": [
        "print(\"Accuracy on MNIST Fashion: \",model.evaluate(x_test_h,y_test_h)[1])\n",
        "print(\"Accuracy on MNIST Digits: \",model.evaluate(x_test_f,y_test_f)[1])"
      ],
      "execution_count": null,
      "outputs": [
        {
          "output_type": "stream",
          "text": [
            "10000/10000 [==============================] - 1s 55us/step\n",
            "Accuracy on MNIST Fashion:  0.8169999718666077\n",
            "10000/10000 [==============================] - 1s 55us/step\n",
            "Accuracy on MNIST Digits:  0.9587000012397766\n"
          ],
          "name": "stdout"
        }
      ]
    },
    {
      "cell_type": "markdown",
      "metadata": {
        "id": "R_7EjbHusqPS"
      },
      "source": [
        "You should observe an accuracy of around 80% for Fashion and 97% for Digits dataset. The accuracy on Fashion will be retained at about 80% even if we continue the training for 25 more epochs. This technique was tested on MNIST Fashion, MNIST Digits, CIFAR10 and SVHN dataset. Near-perfect retention was observed for CIFAR10 and SVHN datasets. It is still unclear why the technique achieves <b>near perfect retention</b> for some datasets while having a slight drop for others. This can be a good direction to investigate in the future. \n",
        "\n",
        "Now to see how the retention of the neural network is without rehearsing on synthetic data, let us train the neural network for 5 more epochs on MNIST Digits and record its accuracy on Fashion and Digits. "
      ]
    },
    {
      "cell_type": "code",
      "metadata": {
        "colab": {
          "base_uri": "https://localhost:8080/"
        },
        "id": "FlinmMbtvTEH",
        "outputId": "e5095f5b-60ec-4b6a-e6c7-cb66ab48de05"
      },
      "source": [
        "model.fit(x_train_f,y_train_f,epochs=5,batch_size=100,verbose=1)\n",
        "print(\"Accuracy on MNIST Fashion: \",model.evaluate(x_test_h,y_test_h)[1])\n",
        "print(\"Accuracy on MNIST Digits: \",model.evaluate(x_test_f,y_test_f)[1])"
      ],
      "execution_count": 18,
      "outputs": [
        {
          "output_type": "stream",
          "text": [
            "Epoch 1/5\n",
            "60000/60000 [==============================] - 6s 105us/step - loss: 0.0300 - accuracy: 0.9909\n",
            "Epoch 2/5\n",
            "60000/60000 [==============================] - 6s 102us/step - loss: 0.0185 - accuracy: 0.9947\n",
            "Epoch 3/5\n",
            "60000/60000 [==============================] - 6s 103us/step - loss: 0.0136 - accuracy: 0.9963\n",
            "Epoch 4/5\n",
            "60000/60000 [==============================] - 6s 104us/step - loss: 0.0092 - accuracy: 0.9977\n",
            "Epoch 5/5\n",
            "60000/60000 [==============================] - 6s 105us/step - loss: 0.0061 - accuracy: 0.9986\n",
            "10000/10000 [==============================] - 1s 72us/step\n",
            "Accuracy on MNIST Fashion:  0.6237000226974487\n",
            "10000/10000 [==============================] - 1s 60us/step\n",
            "Accuracy on MNIST Digits:  0.9804999828338623\n"
          ],
          "name": "stdout"
        }
      ]
    },
    {
      "cell_type": "markdown",
      "metadata": {
        "id": "f3pwgid2wisn"
      },
      "source": [
        "A significant drop in retention of Fashion dataset can be observed when we do not rehearse it."
      ]
    },
    {
      "cell_type": "markdown",
      "metadata": {
        "id": "Ni9ppGUMwsaJ"
      },
      "source": [
        "# Concluding remarks\n",
        "\n",
        "This tutorial tried to demonstrate that neural networks can be pseudo rehearsed on synthetic data that is not photo-realistic. This comes in handy when we are trying to generate synthetic data for visually complex datasets like CIFAR10. In the original paper, the technique was demonstrated on MNIST Fashion, CIFAR10 and SVHN datasets. \n",
        "\n",
        "It is suggested to try generating synthetic data for other datasets as well! Make sure to play around with the parameters when you change the dataset. You might not find the optimal parameters for Genetic Algorithms on the first try, but please remember that, as of now, there is no theoretical framework/technique to estimate the optimal parameters for genetic algorithms. So keep playing around and use your intuition.\n"
      ]
    },
    {
      "cell_type": "code",
      "metadata": {
        "id": "bv1V1sKvQ2u4"
      },
      "source": [
        "# This is being done to save space and prevent the program from crashing\n",
        "\n",
        "# del new_synthetic_data\n",
        "# del new_synthetic_labels"
      ],
      "execution_count": null,
      "outputs": []
    },
    {
      "cell_type": "markdown",
      "metadata": {
        "id": "g5-Hiea9M0vJ"
      },
      "source": [
        "## Cite this work as:\n",
        "\n",
        "@inproceedings{suri2021pseudo,<br>\n",
        "  title={Pseudo Rehearsal using non photo-realistic images},<br>\n",
        "  author={Suri, Bhasker Sri Harsha and Yeturu, Kalidas},<br>\n",
        "  booktitle={2020 25th International Conference on Pattern Recognition (ICPR)},<br>\n",
        "  pages={4797--4804},<br>\n",
        "  year={2021},<br>\n",
        "  organization={IEEE}}\n",
        "\n",
        "The full paper can be found at this <a href=\" https://ieeexplore.ieee.org/document/9412827\">link</a> and a pre-print version of it can be found <a href=\"https://arxiv.org/abs/2004.13414\">here</a>."
      ]
    },
    {
      "cell_type": "markdown",
      "metadata": {
        "id": "1FQMdVbW7Wjf"
      },
      "source": [
        "<u>Author of this notebook:</u>\n",
        "\n",
        "Name: Suri Bhasker Sri Harsha<br>\n",
        "Affiliation: Indian Institute of Technology Tirupati<br>\n",
        "Email: cs18s506@iittp.ac.in"
      ]
    },
    {
      "cell_type": "code",
      "metadata": {
        "id": "0s06MLau7mya"
      },
      "source": [
        ""
      ],
      "execution_count": null,
      "outputs": []
    }
  ]
}